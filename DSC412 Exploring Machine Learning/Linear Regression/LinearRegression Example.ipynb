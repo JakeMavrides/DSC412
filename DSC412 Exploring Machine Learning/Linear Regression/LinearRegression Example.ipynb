{
  "nbformat": 4,
  "nbformat_minor": 0,
  "metadata": {
    "colab": {
      "provenance": []
    },
    "kernelspec": {
      "name": "python3",
      "display_name": "Python 3"
    }
  },
  "cells": [
    {
      "cell_type": "markdown",
      "source": [
        "# Import Diabetes Data\n",
        "\n",
        "\n"
      ],
      "metadata": {
        "id": "0UlMqdDVr_lo"
      }
    },
    {
      "cell_type": "code",
      "metadata": {
        "id": "gOZc0b1GzPi0"
      },
      "source": [
        "from sklearn.datasets import load_diabetes"
      ],
      "execution_count": 5,
      "outputs": []
    },
    {
      "cell_type": "code",
      "metadata": {
        "id": "Jj2HJLWGzZWI"
      },
      "source": [
        "diabetes = load_diabetes()"
      ],
      "execution_count": 7,
      "outputs": []
    },
    {
      "cell_type": "markdown",
      "source": [
        "# Look at Keys Available"
      ],
      "metadata": {
        "id": "8azS1lRqsLSl"
      }
    },
    {
      "cell_type": "code",
      "metadata": {
        "id": "mAtd-xArFLxo",
        "colab": {
          "base_uri": "https://localhost:8080/"
        },
        "outputId": "9b2c3395-4ed4-4909-d16b-c79b4ad1c098"
      },
      "source": [
        "diabetes.keys()"
      ],
      "execution_count": 8,
      "outputs": [
        {
          "output_type": "execute_result",
          "data": {
            "text/plain": [
              "dict_keys(['data', 'target', 'frame', 'DESCR', 'feature_names', 'data_filename', 'target_filename', 'data_module'])"
            ]
          },
          "metadata": {},
          "execution_count": 8
        }
      ]
    },
    {
      "cell_type": "code",
      "metadata": {
        "id": "6zSwmdE-ze7t",
        "colab": {
          "base_uri": "https://localhost:8080/",
          "height": 143
        },
        "outputId": "8ccb0aba-d994-4863-feb7-be3a1bf6f778"
      },
      "source": [
        "#506 instances, meaning 506 records\n",
        "#the fourteenth attribute is stored in \"target\"\n",
        "#describes the different features of the thirteen attributes\n",
        "diabetes[\"DESCR\"]"
      ],
      "execution_count": 9,
      "outputs": [
        {
          "output_type": "execute_result",
          "data": {
            "text/plain": [
              "'.. _diabetes_dataset:\\n\\nDiabetes dataset\\n----------------\\n\\nTen baseline variables, age, sex, body mass index, average blood\\npressure, and six blood serum measurements were obtained for each of n =\\n442 diabetes patients, as well as the response of interest, a\\nquantitative measure of disease progression one year after baseline.\\n\\n**Data Set Characteristics:**\\n\\n  :Number of Instances: 442\\n\\n  :Number of Attributes: First 10 columns are numeric predictive values\\n\\n  :Target: Column 11 is a quantitative measure of disease progression one year after baseline\\n\\n  :Attribute Information:\\n      - age     age in years\\n      - sex\\n      - bmi     body mass index\\n      - bp      average blood pressure\\n      - s1      tc, total serum cholesterol\\n      - s2      ldl, low-density lipoproteins\\n      - s3      hdl, high-density lipoproteins\\n      - s4      tch, total cholesterol / HDL\\n      - s5      ltg, possibly log of serum triglycerides level\\n      - s6      glu, blood sugar level\\n\\nNote: Each of these 10 feature variables have been mean centered and scaled by the standard deviation times the square root of `n_samples` (i.e. the sum of squares of each column totals 1).\\n\\nSource URL:\\nhttps://www4.stat.ncsu.edu/~boos/var.select/diabetes.html\\n\\nFor more information see:\\nBradley Efron, Trevor Hastie, Iain Johnstone and Robert Tibshirani (2004) \"Least Angle Regression,\" Annals of Statistics (with discussion), 407-499.\\n(https://web.stanford.edu/~hastie/Papers/LARS/LeastAngle_2002.pdf)\\n'"
            ],
            "application/vnd.google.colaboratory.intrinsic+json": {
              "type": "string"
            }
          },
          "metadata": {},
          "execution_count": 9
        }
      ]
    },
    {
      "cell_type": "markdown",
      "source": [
        "# View Feature Names"
      ],
      "metadata": {
        "id": "HtGKHeAvsg3e"
      }
    },
    {
      "cell_type": "code",
      "metadata": {
        "id": "VhNBx3xC0keI",
        "colab": {
          "base_uri": "https://localhost:8080/"
        },
        "outputId": "1c9b6dc6-9e3a-4b84-a622-37a41479f134"
      },
      "source": [
        "#attributes, 10 features\n",
        "diabetes['feature_names']"
      ],
      "execution_count": 10,
      "outputs": [
        {
          "output_type": "execute_result",
          "data": {
            "text/plain": [
              "['age', 'sex', 'bmi', 'bp', 's1', 's2', 's3', 's4', 's5', 's6']"
            ]
          },
          "metadata": {},
          "execution_count": 10
        }
      ]
    },
    {
      "cell_type": "markdown",
      "source": [
        "# View Target Data"
      ],
      "metadata": {
        "id": "AgkWvHgIsnLA"
      }
    },
    {
      "cell_type": "code",
      "metadata": {
        "id": "aTyilKUK0rCc",
        "colab": {
          "base_uri": "https://localhost:8080/"
        },
        "outputId": "c691e3de-c076-41f4-c2ca-73c508022096"
      },
      "source": [
        "#unlike classifier models, the answers are given in numerical values\n",
        "diabetes['target']"
      ],
      "execution_count": 11,
      "outputs": [
        {
          "output_type": "execute_result",
          "data": {
            "text/plain": [
              "array([151.,  75., 141., 206., 135.,  97., 138.,  63., 110., 310., 101.,\n",
              "        69., 179., 185., 118., 171., 166., 144.,  97., 168.,  68.,  49.,\n",
              "        68., 245., 184., 202., 137.,  85., 131., 283., 129.,  59., 341.,\n",
              "        87.,  65., 102., 265., 276., 252.,  90., 100.,  55.,  61.,  92.,\n",
              "       259.,  53., 190., 142.,  75., 142., 155., 225.,  59., 104., 182.,\n",
              "       128.,  52.,  37., 170., 170.,  61., 144.,  52., 128.,  71., 163.,\n",
              "       150.,  97., 160., 178.,  48., 270., 202., 111.,  85.,  42., 170.,\n",
              "       200., 252., 113., 143.,  51.,  52., 210.,  65., 141.,  55., 134.,\n",
              "        42., 111.,  98., 164.,  48.,  96.,  90., 162., 150., 279.,  92.,\n",
              "        83., 128., 102., 302., 198.,  95.,  53., 134., 144., 232.,  81.,\n",
              "       104.,  59., 246., 297., 258., 229., 275., 281., 179., 200., 200.,\n",
              "       173., 180.,  84., 121., 161.,  99., 109., 115., 268., 274., 158.,\n",
              "       107.,  83., 103., 272.,  85., 280., 336., 281., 118., 317., 235.,\n",
              "        60., 174., 259., 178., 128.,  96., 126., 288.,  88., 292.,  71.,\n",
              "       197., 186.,  25.,  84.,  96., 195.,  53., 217., 172., 131., 214.,\n",
              "        59.,  70., 220., 268., 152.,  47.,  74., 295., 101., 151., 127.,\n",
              "       237., 225.,  81., 151., 107.,  64., 138., 185., 265., 101., 137.,\n",
              "       143., 141.,  79., 292., 178.,  91., 116.,  86., 122.,  72., 129.,\n",
              "       142.,  90., 158.,  39., 196., 222., 277.,  99., 196., 202., 155.,\n",
              "        77., 191.,  70.,  73.,  49.,  65., 263., 248., 296., 214., 185.,\n",
              "        78.,  93., 252., 150.,  77., 208.,  77., 108., 160.,  53., 220.,\n",
              "       154., 259.,  90., 246., 124.,  67.,  72., 257., 262., 275., 177.,\n",
              "        71.,  47., 187., 125.,  78.,  51., 258., 215., 303., 243.,  91.,\n",
              "       150., 310., 153., 346.,  63.,  89.,  50.,  39., 103., 308., 116.,\n",
              "       145.,  74.,  45., 115., 264.,  87., 202., 127., 182., 241.,  66.,\n",
              "        94., 283.,  64., 102., 200., 265.,  94., 230., 181., 156., 233.,\n",
              "        60., 219.,  80.,  68., 332., 248.,  84., 200.,  55.,  85.,  89.,\n",
              "        31., 129.,  83., 275.,  65., 198., 236., 253., 124.,  44., 172.,\n",
              "       114., 142., 109., 180., 144., 163., 147.,  97., 220., 190., 109.,\n",
              "       191., 122., 230., 242., 248., 249., 192., 131., 237.,  78., 135.,\n",
              "       244., 199., 270., 164.,  72.,  96., 306.,  91., 214.,  95., 216.,\n",
              "       263., 178., 113., 200., 139., 139.,  88., 148.,  88., 243.,  71.,\n",
              "        77., 109., 272.,  60.,  54., 221.,  90., 311., 281., 182., 321.,\n",
              "        58., 262., 206., 233., 242., 123., 167.,  63., 197.,  71., 168.,\n",
              "       140., 217., 121., 235., 245.,  40.,  52., 104., 132.,  88.,  69.,\n",
              "       219.,  72., 201., 110.,  51., 277.,  63., 118.,  69., 273., 258.,\n",
              "        43., 198., 242., 232., 175.,  93., 168., 275., 293., 281.,  72.,\n",
              "       140., 189., 181., 209., 136., 261., 113., 131., 174., 257.,  55.,\n",
              "        84.,  42., 146., 212., 233.,  91., 111., 152., 120.,  67., 310.,\n",
              "        94., 183.,  66., 173.,  72.,  49.,  64.,  48., 178., 104., 132.,\n",
              "       220.,  57.])"
            ]
          },
          "metadata": {},
          "execution_count": 11
        }
      ]
    },
    {
      "cell_type": "markdown",
      "source": [
        "# Load Data in Variables X, Y"
      ],
      "metadata": {
        "id": "AJYIROF3s0CZ"
      }
    },
    {
      "cell_type": "code",
      "metadata": {
        "id": "ninBarrV09lz"
      },
      "source": [
        "X = diabetes['data']"
      ],
      "execution_count": 12,
      "outputs": []
    },
    {
      "cell_type": "code",
      "metadata": {
        "id": "58AIsAYH3K1i"
      },
      "source": [
        "y = diabetes['target']"
      ],
      "execution_count": 13,
      "outputs": []
    },
    {
      "cell_type": "markdown",
      "source": [
        "# Split Data into Training and Testing Data"
      ],
      "metadata": {
        "id": "iiwoRZy6s4Jp"
      }
    },
    {
      "cell_type": "code",
      "metadata": {
        "id": "PCSPVRub3NN1"
      },
      "source": [
        "#33 percent of our data is for testing\n",
        "#67 percent of our data is for training\n",
        "from sklearn.model_selection import train_test_split\n",
        "X_train, X_test, y_train, y_test = train_test_split(X,y,\n",
        "                                                    test_size = 0.33,\n",
        "                                                    random_state = 42)"
      ],
      "execution_count": 14,
      "outputs": []
    },
    {
      "cell_type": "markdown",
      "source": [
        "# Check Percentage Distributions"
      ],
      "metadata": {
        "id": "A29lnbzJtPjm"
      }
    },
    {
      "cell_type": "code",
      "metadata": {
        "id": "LzY4y_HKF5Mc",
        "colab": {
          "base_uri": "https://localhost:8080/"
        },
        "outputId": "6a3a16e0-b720-4289-ac7f-467d1cb06a93"
      },
      "source": [
        "#67 percent of 506 is 339\n",
        "X_train.shape"
      ],
      "execution_count": 15,
      "outputs": [
        {
          "output_type": "execute_result",
          "data": {
            "text/plain": [
              "(296, 10)"
            ]
          },
          "metadata": {},
          "execution_count": 15
        }
      ]
    },
    {
      "cell_type": "code",
      "metadata": {
        "id": "tkGMQylLF8Xz",
        "colab": {
          "base_uri": "https://localhost:8080/"
        },
        "outputId": "5b2eb31f-a0d5-41b8-f98a-4faab4e79ca7"
      },
      "source": [
        "#33 percent of 506 is 167\n",
        "X_test.shape"
      ],
      "execution_count": 16,
      "outputs": [
        {
          "output_type": "execute_result",
          "data": {
            "text/plain": [
              "(146, 10)"
            ]
          },
          "metadata": {},
          "execution_count": 16
        }
      ]
    },
    {
      "cell_type": "code",
      "metadata": {
        "id": "V0Ahg_P59iNY",
        "colab": {
          "base_uri": "https://localhost:8080/"
        },
        "outputId": "6f8c423b-2404-4638-97c6-b620b75c2ec0"
      },
      "source": [
        "y_train.shape"
      ],
      "execution_count": 17,
      "outputs": [
        {
          "output_type": "execute_result",
          "data": {
            "text/plain": [
              "(296,)"
            ]
          },
          "metadata": {},
          "execution_count": 17
        }
      ]
    },
    {
      "cell_type": "code",
      "metadata": {
        "id": "KNamWubf9phK",
        "colab": {
          "base_uri": "https://localhost:8080/"
        },
        "outputId": "b05f7454-2ddd-47bc-fcb0-8e7880a3a5f1"
      },
      "source": [
        "y_test.shape"
      ],
      "execution_count": 18,
      "outputs": [
        {
          "output_type": "execute_result",
          "data": {
            "text/plain": [
              "(146,)"
            ]
          },
          "metadata": {},
          "execution_count": 18
        }
      ]
    },
    {
      "cell_type": "markdown",
      "source": [
        "# Import Linear Regression Model from Sci-kit Learn"
      ],
      "metadata": {
        "id": "6bhgjP0EtcAm"
      }
    },
    {
      "cell_type": "code",
      "metadata": {
        "id": "7n86rpn_512g",
        "colab": {
          "base_uri": "https://localhost:8080/",
          "height": 75
        },
        "outputId": "5e6e15ce-96dc-41b2-8c5c-02a147a9ffa6"
      },
      "source": [
        "from sklearn.linear_model import LinearRegression\n",
        "\n",
        "lr = LinearRegression() #create an instance of Linear Regression\n",
        "lr.fit(X_train,y_train) #use training data and training answers to train the model using .fit"
      ],
      "execution_count": 19,
      "outputs": [
        {
          "output_type": "execute_result",
          "data": {
            "text/plain": [
              "LinearRegression()"
            ],
            "text/html": [
              "<style>#sk-container-id-1 {color: black;background-color: white;}#sk-container-id-1 pre{padding: 0;}#sk-container-id-1 div.sk-toggleable {background-color: white;}#sk-container-id-1 label.sk-toggleable__label {cursor: pointer;display: block;width: 100%;margin-bottom: 0;padding: 0.3em;box-sizing: border-box;text-align: center;}#sk-container-id-1 label.sk-toggleable__label-arrow:before {content: \"▸\";float: left;margin-right: 0.25em;color: #696969;}#sk-container-id-1 label.sk-toggleable__label-arrow:hover:before {color: black;}#sk-container-id-1 div.sk-estimator:hover label.sk-toggleable__label-arrow:before {color: black;}#sk-container-id-1 div.sk-toggleable__content {max-height: 0;max-width: 0;overflow: hidden;text-align: left;background-color: #f0f8ff;}#sk-container-id-1 div.sk-toggleable__content pre {margin: 0.2em;color: black;border-radius: 0.25em;background-color: #f0f8ff;}#sk-container-id-1 input.sk-toggleable__control:checked~div.sk-toggleable__content {max-height: 200px;max-width: 100%;overflow: auto;}#sk-container-id-1 input.sk-toggleable__control:checked~label.sk-toggleable__label-arrow:before {content: \"▾\";}#sk-container-id-1 div.sk-estimator input.sk-toggleable__control:checked~label.sk-toggleable__label {background-color: #d4ebff;}#sk-container-id-1 div.sk-label input.sk-toggleable__control:checked~label.sk-toggleable__label {background-color: #d4ebff;}#sk-container-id-1 input.sk-hidden--visually {border: 0;clip: rect(1px 1px 1px 1px);clip: rect(1px, 1px, 1px, 1px);height: 1px;margin: -1px;overflow: hidden;padding: 0;position: absolute;width: 1px;}#sk-container-id-1 div.sk-estimator {font-family: monospace;background-color: #f0f8ff;border: 1px dotted black;border-radius: 0.25em;box-sizing: border-box;margin-bottom: 0.5em;}#sk-container-id-1 div.sk-estimator:hover {background-color: #d4ebff;}#sk-container-id-1 div.sk-parallel-item::after {content: \"\";width: 100%;border-bottom: 1px solid gray;flex-grow: 1;}#sk-container-id-1 div.sk-label:hover label.sk-toggleable__label {background-color: #d4ebff;}#sk-container-id-1 div.sk-serial::before {content: \"\";position: absolute;border-left: 1px solid gray;box-sizing: border-box;top: 0;bottom: 0;left: 50%;z-index: 0;}#sk-container-id-1 div.sk-serial {display: flex;flex-direction: column;align-items: center;background-color: white;padding-right: 0.2em;padding-left: 0.2em;position: relative;}#sk-container-id-1 div.sk-item {position: relative;z-index: 1;}#sk-container-id-1 div.sk-parallel {display: flex;align-items: stretch;justify-content: center;background-color: white;position: relative;}#sk-container-id-1 div.sk-item::before, #sk-container-id-1 div.sk-parallel-item::before {content: \"\";position: absolute;border-left: 1px solid gray;box-sizing: border-box;top: 0;bottom: 0;left: 50%;z-index: -1;}#sk-container-id-1 div.sk-parallel-item {display: flex;flex-direction: column;z-index: 1;position: relative;background-color: white;}#sk-container-id-1 div.sk-parallel-item:first-child::after {align-self: flex-end;width: 50%;}#sk-container-id-1 div.sk-parallel-item:last-child::after {align-self: flex-start;width: 50%;}#sk-container-id-1 div.sk-parallel-item:only-child::after {width: 0;}#sk-container-id-1 div.sk-dashed-wrapped {border: 1px dashed gray;margin: 0 0.4em 0.5em 0.4em;box-sizing: border-box;padding-bottom: 0.4em;background-color: white;}#sk-container-id-1 div.sk-label label {font-family: monospace;font-weight: bold;display: inline-block;line-height: 1.2em;}#sk-container-id-1 div.sk-label-container {text-align: center;}#sk-container-id-1 div.sk-container {/* jupyter's `normalize.less` sets `[hidden] { display: none; }` but bootstrap.min.css set `[hidden] { display: none !important; }` so we also need the `!important` here to be able to override the default hidden behavior on the sphinx rendered scikit-learn.org. See: https://github.com/scikit-learn/scikit-learn/issues/21755 */display: inline-block !important;position: relative;}#sk-container-id-1 div.sk-text-repr-fallback {display: none;}</style><div id=\"sk-container-id-1\" class=\"sk-top-container\"><div class=\"sk-text-repr-fallback\"><pre>LinearRegression()</pre><b>In a Jupyter environment, please rerun this cell to show the HTML representation or trust the notebook. <br />On GitHub, the HTML representation is unable to render, please try loading this page with nbviewer.org.</b></div><div class=\"sk-container\" hidden><div class=\"sk-item\"><div class=\"sk-estimator sk-toggleable\"><input class=\"sk-toggleable__control sk-hidden--visually\" id=\"sk-estimator-id-1\" type=\"checkbox\" checked><label for=\"sk-estimator-id-1\" class=\"sk-toggleable__label sk-toggleable__label-arrow\">LinearRegression</label><div class=\"sk-toggleable__content\"><pre>LinearRegression()</pre></div></div></div></div></div>"
            ]
          },
          "metadata": {},
          "execution_count": 19
        }
      ]
    },
    {
      "cell_type": "markdown",
      "source": [
        "# Make Predictions"
      ],
      "metadata": {
        "id": "A-Jagp1FtpwD"
      }
    },
    {
      "cell_type": "code",
      "metadata": {
        "id": "0IQMEY_E6DXc",
        "colab": {
          "base_uri": "https://localhost:8080/"
        },
        "outputId": "968b839b-c948-4051-bc94-d77ce06fae5c"
      },
      "source": [
        "#call predict method on test data\n",
        "y_test_predict_vals = lr.predict(X_test)\n",
        "y_test_predict_vals #these are the predicted values."
      ],
      "execution_count": 20,
      "outputs": [
        {
          "output_type": "execute_result",
          "data": {
            "text/plain": [
              "array([139.08778555, 184.73870057, 131.6095325 , 284.90943025,\n",
              "       122.64913588,  90.11610362, 257.30792581, 179.16210464,\n",
              "        81.60189138, 109.90804773,  95.93670644, 168.86654734,\n",
              "        61.06600627, 202.54476202,  95.6675196 , 129.52099062,\n",
              "       211.39746771, 247.04551598, 201.84581418, 218.29511044,\n",
              "       204.74433872,  89.24690391,  65.74005798, 189.76527361,\n",
              "       157.01099642, 164.09010146, 195.89413327, 184.44675625,\n",
              "        47.17814271, 108.36041121, 175.22288093,  89.70805135,\n",
              "       127.68067335, 181.57571652, 168.40472388, 195.63732017,\n",
              "       120.01792029, 115.51275723, 139.78494568,  59.50390312,\n",
              "        67.14800417, 108.66524288, 170.2500668 , 145.34009866,\n",
              "       167.87220501,  65.4127031 ,  71.23262502, 105.93318662,\n",
              "        55.55240836, 165.26240902, 155.67111483,  66.95625003,\n",
              "       110.93961535, 106.10785529, 179.34817487, 163.38869479,\n",
              "        90.80940237, 212.75615079, 120.74246556,  63.60891537,\n",
              "       185.25037795, 204.70429839, 140.92051154, 105.09489431,\n",
              "       126.8360586 , 209.77160973, 172.49880274, 169.02023425,\n",
              "       123.38343523, 143.44395953, 180.87277194, 197.71973356,\n",
              "       225.30855024, 147.2879107 ,  81.67773341, 158.15517014,\n",
              "       192.94605607, 209.26385343, 159.26399266, 199.29516413,\n",
              "       113.12458755, 144.44994202,  50.90995769,  51.50623308,\n",
              "       111.12486384,  77.19009971,  81.07135079,  56.5159346 ,\n",
              "       168.77994716, 187.81841375, 145.19357633, 244.14321792,\n",
              "       110.97708949,  62.3515318 ,  58.75255696, 194.07835965,\n",
              "       248.20335712, 180.77285781, 109.03055027,  60.00396292,\n",
              "       196.56882137, 106.74427392, 296.198764  ,  97.39403243,\n",
              "       150.17907254, 109.2815521 , 132.1674797 , 127.68136448,\n",
              "       163.69958773, 188.77870177, 103.55767133, 203.9687725 ,\n",
              "       203.56127018, 203.09950459, 189.5129071 , 158.0745829 ,\n",
              "       146.60590749, 133.11503706, 112.71159093, 169.21955116,\n",
              "       170.97106794,  98.63671179,  46.11703026, 166.60116032,\n",
              "       127.0616647 , 178.87311364, 166.60599869, 108.08838252,\n",
              "       199.96005023,  90.61401363, 125.09446928,  76.78677224,\n",
              "       230.54768538, 233.66499503, 233.45507303, 157.12057435,\n",
              "       291.68770066, 148.45563957,  75.35728502, 231.24763185,\n",
              "        87.7556799 , 170.84839882, 209.79742692,  95.89529054,\n",
              "       213.02858172, 203.92635855])"
            ]
          },
          "metadata": {},
          "execution_count": 20
        }
      ]
    },
    {
      "cell_type": "code",
      "source": [
        "y_test"
      ],
      "metadata": {
        "colab": {
          "base_uri": "https://localhost:8080/"
        },
        "id": "m8M__8QnuJVB",
        "outputId": "a957c43a-5b03-450a-af0d-e1fce31047aa"
      },
      "execution_count": 21,
      "outputs": [
        {
          "output_type": "execute_result",
          "data": {
            "text/plain": [
              "array([219.,  70., 202., 230., 111.,  84., 242., 272.,  94.,  96.,  94.,\n",
              "       252.,  99., 297., 135.,  67., 295., 264., 170., 275., 310.,  64.,\n",
              "       128., 232., 129., 118., 263.,  77.,  48., 107., 140., 113.,  90.,\n",
              "       164., 180., 233.,  42.,  84., 172.,  63.,  48., 108., 156., 168.,\n",
              "        90.,  52., 200.,  87.,  90., 258., 136., 158.,  69.,  72., 171.,\n",
              "        95.,  72., 151., 168.,  60., 122.,  52., 187., 102., 214., 248.,\n",
              "       181., 110., 140., 202., 101., 222., 281.,  61.,  89.,  91., 186.,\n",
              "       220., 237., 233.,  68., 190.,  96.,  72., 153.,  98.,  37.,  63.,\n",
              "       184., 144., 150., 280., 125.,  59.,  65., 281., 277., 167.,  90.,\n",
              "        72., 178.,  88., 270., 101., 197.,  97.,  53.,  71., 262.,  52.,\n",
              "       102., 166., 189., 173., 220., 206.,  97.,  60.,  61., 242., 121.,\n",
              "       128., 104., 265., 132., 283., 174., 129., 257., 137.,  63.,  93.,\n",
              "       232., 208., 261., 179., 258., 262.,  51., 237.,  71., 139., 268.,\n",
              "        69., 317., 249.])"
            ]
          },
          "metadata": {},
          "execution_count": 21
        }
      ]
    },
    {
      "cell_type": "markdown",
      "source": [
        "# Implement R-Square Score"
      ],
      "metadata": {
        "id": "TZPCuq96vo7E"
      }
    },
    {
      "cell_type": "code",
      "metadata": {
        "id": "II2KE9WX6R9F",
        "colab": {
          "base_uri": "https://localhost:8080/"
        },
        "outputId": "8c159821-7873-4c6b-f5ea-fc9a002966a7"
      },
      "source": [
        "from sklearn.metrics import mean_squared_error, r2_score\n",
        "mean_squared_error(y_test, y_test_predict_vals)"
      ],
      "execution_count": 23,
      "outputs": [
        {
          "output_type": "execute_result",
          "data": {
            "text/plain": [
              "2817.8082972215852"
            ]
          },
          "metadata": {},
          "execution_count": 23
        }
      ]
    },
    {
      "cell_type": "code",
      "metadata": {
        "id": "GWNJkKPp_LfU",
        "colab": {
          "base_uri": "https://localhost:8080/"
        },
        "outputId": "e9914ffe-38e2-4c2d-c307-8ebc6f481000"
      },
      "source": [
        "#difference between answers related to difference between the mean of actual answers\n",
        "#the closer score is to 1, the better\n",
        "r2_score(y_test, y_test_predict_vals)"
      ],
      "execution_count": 24,
      "outputs": [
        {
          "output_type": "execute_result",
          "data": {
            "text/plain": [
              "0.510394257282125"
            ]
          },
          "metadata": {},
          "execution_count": 24
        }
      ]
    }
  ]
}