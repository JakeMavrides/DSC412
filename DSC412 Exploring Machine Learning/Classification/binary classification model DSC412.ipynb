{
  "nbformat": 4,
  "nbformat_minor": 0,
  "metadata": {
    "colab": {
      "provenance": []
    },
    "kernelspec": {
      "name": "python3",
      "display_name": "Python 3"
    }
  },
  "cells": [
    {
      "cell_type": "code",
      "metadata": {
        "id": "6Q4eytplv3Tz"
      },
      "source": [
        "from sklearn import datasets\n",
        "\n",
        "iris = datasets.load_iris()\n"
      ],
      "execution_count": null,
      "outputs": []
    },
    {
      "cell_type": "code",
      "source": [
        "iris.keys()"
      ],
      "metadata": {
        "colab": {
          "base_uri": "https://localhost:8080/"
        },
        "id": "MRag5tJIKXC-",
        "outputId": "599daa8c-47cb-4115-a44f-1205820c22e0"
      },
      "execution_count": null,
      "outputs": [
        {
          "output_type": "execute_result",
          "data": {
            "text/plain": [
              "dict_keys(['data', 'target', 'frame', 'target_names', 'DESCR', 'feature_names', 'filename', 'data_module'])"
            ]
          },
          "metadata": {},
          "execution_count": 2
        }
      ]
    },
    {
      "cell_type": "code",
      "metadata": {
        "id": "eCDcQHlvlt1E",
        "colab": {
          "base_uri": "https://localhost:8080/",
          "height": 34
        },
        "outputId": "53d4ac7e-7a80-4e7c-f331-c83b56b0d17d"
      },
      "source": [
        "iris['target_names']"
      ],
      "execution_count": null,
      "outputs": [
        {
          "output_type": "execute_result",
          "data": {
            "text/plain": [
              "array(['setosa', 'versicolor', 'virginica'], dtype='<U10')"
            ]
          },
          "metadata": {
            "tags": []
          },
          "execution_count": 2
        }
      ]
    },
    {
      "cell_type": "code",
      "source": [
        "iris['target']"
      ],
      "metadata": {
        "colab": {
          "base_uri": "https://localhost:8080/"
        },
        "id": "3G8idPiQLRq7",
        "outputId": "18c4787e-a1e0-4ea6-ac5b-faa973fdebe1"
      },
      "execution_count": null,
      "outputs": [
        {
          "output_type": "execute_result",
          "data": {
            "text/plain": [
              "array([0, 0, 0, 0, 0, 0, 0, 0, 0, 0, 0, 0, 0, 0, 0, 0, 0, 0, 0, 0, 0, 0,\n",
              "       0, 0, 0, 0, 0, 0, 0, 0, 0, 0, 0, 0, 0, 0, 0, 0, 0, 0, 0, 0, 0, 0,\n",
              "       0, 0, 0, 0, 0, 0, 1, 1, 1, 1, 1, 1, 1, 1, 1, 1, 1, 1, 1, 1, 1, 1,\n",
              "       1, 1, 1, 1, 1, 1, 1, 1, 1, 1, 1, 1, 1, 1, 1, 1, 1, 1, 1, 1, 1, 1,\n",
              "       1, 1, 1, 1, 1, 1, 1, 1, 1, 1, 1, 1, 2, 2, 2, 2, 2, 2, 2, 2, 2, 2,\n",
              "       2, 2, 2, 2, 2, 2, 2, 2, 2, 2, 2, 2, 2, 2, 2, 2, 2, 2, 2, 2, 2, 2,\n",
              "       2, 2, 2, 2, 2, 2, 2, 2, 2, 2, 2, 2, 2, 2, 2, 2, 2, 2])"
            ]
          },
          "metadata": {},
          "execution_count": 3
        }
      ]
    },
    {
      "cell_type": "code",
      "source": [
        "iris['feature_names']"
      ],
      "metadata": {
        "colab": {
          "base_uri": "https://localhost:8080/"
        },
        "id": "Ft2ZO-clL4za",
        "outputId": "c76c6be2-c38d-495c-b1d3-4426e52522d0"
      },
      "execution_count": null,
      "outputs": [
        {
          "output_type": "execute_result",
          "data": {
            "text/plain": [
              "['sepal length (cm)',\n",
              " 'sepal width (cm)',\n",
              " 'petal length (cm)',\n",
              " 'petal width (cm)']"
            ]
          },
          "metadata": {},
          "execution_count": 4
        }
      ]
    },
    {
      "cell_type": "code",
      "source": [
        "X = iris['data']"
      ],
      "metadata": {
        "id": "K99YIolDMKhd"
      },
      "execution_count": null,
      "outputs": []
    },
    {
      "cell_type": "code",
      "source": [
        "X.shape"
      ],
      "metadata": {
        "colab": {
          "base_uri": "https://localhost:8080/"
        },
        "id": "b2We8X5QMYAM",
        "outputId": "30373a93-00cf-4188-ba33-01fca23058d2"
      },
      "execution_count": null,
      "outputs": [
        {
          "output_type": "execute_result",
          "data": {
            "text/plain": [
              "(150, 4)"
            ]
          },
          "metadata": {},
          "execution_count": 8
        }
      ]
    },
    {
      "cell_type": "code",
      "source": [
        "y = iris['target']"
      ],
      "metadata": {
        "id": "NcTnEEWlMmCe"
      },
      "execution_count": null,
      "outputs": []
    },
    {
      "cell_type": "code",
      "source": [
        "y.shape"
      ],
      "metadata": {
        "colab": {
          "base_uri": "https://localhost:8080/"
        },
        "id": "axPVBJ3jMq-m",
        "outputId": "5b9226f5-af9e-4459-94c9-eda1e1dc0498"
      },
      "execution_count": null,
      "outputs": [
        {
          "output_type": "execute_result",
          "data": {
            "text/plain": [
              "(150,)"
            ]
          },
          "metadata": {},
          "execution_count": 10
        }
      ]
    },
    {
      "cell_type": "code",
      "metadata": {
        "id": "06cWFPvcyMaR"
      },
      "source": [
        "from sklearn.model_selection import train_test_split\n",
        "X_train, X_test, y_train, y_test = train_test_split(X,y, test_size = 0.33, random_state = 42)"
      ],
      "execution_count": null,
      "outputs": []
    },
    {
      "cell_type": "code",
      "metadata": {
        "id": "Ra3tV-Qlfg0s",
        "colab": {
          "base_uri": "https://localhost:8080/"
        },
        "outputId": "07781d61-4d9a-48ff-cafa-cf8f2b307bd7"
      },
      "source": [
        "X_train.shape"
      ],
      "execution_count": null,
      "outputs": [
        {
          "output_type": "execute_result",
          "data": {
            "text/plain": [
              "(100, 4)"
            ]
          },
          "metadata": {},
          "execution_count": 12
        }
      ]
    },
    {
      "cell_type": "code",
      "metadata": {
        "id": "CjJtc3PGflmN",
        "colab": {
          "base_uri": "https://localhost:8080/"
        },
        "outputId": "be28d1c9-541b-4c7d-d86c-36ca5f3df6cd"
      },
      "source": [
        "y_train.shape"
      ],
      "execution_count": null,
      "outputs": [
        {
          "output_type": "execute_result",
          "data": {
            "text/plain": [
              "(100,)"
            ]
          },
          "metadata": {},
          "execution_count": 13
        }
      ]
    },
    {
      "cell_type": "code",
      "metadata": {
        "id": "eciBW0x2folK",
        "colab": {
          "base_uri": "https://localhost:8080/"
        },
        "outputId": "dbc0b958-b178-4bce-d757-6894ffb2fe8e"
      },
      "source": [
        "X_test.shape"
      ],
      "execution_count": null,
      "outputs": [
        {
          "output_type": "execute_result",
          "data": {
            "text/plain": [
              "(50, 4)"
            ]
          },
          "metadata": {},
          "execution_count": 14
        }
      ]
    },
    {
      "cell_type": "code",
      "metadata": {
        "id": "g0PxgJemfsa3",
        "colab": {
          "base_uri": "https://localhost:8080/"
        },
        "outputId": "0e665b2e-b2bb-4910-dd90-60302a814557"
      },
      "source": [
        "y_test.shape"
      ],
      "execution_count": null,
      "outputs": [
        {
          "output_type": "execute_result",
          "data": {
            "text/plain": [
              "(50,)"
            ]
          },
          "metadata": {},
          "execution_count": 15
        }
      ]
    },
    {
      "cell_type": "code",
      "metadata": {
        "id": "uOm8pCsmyhJl"
      },
      "source": [
        "import numpy as np\n"
      ],
      "execution_count": null,
      "outputs": []
    },
    {
      "cell_type": "code",
      "source": [
        "y_train_virginica = (y_train == 2).astype(int)"
      ],
      "metadata": {
        "id": "eXKkJuMiPLCf"
      },
      "execution_count": null,
      "outputs": []
    },
    {
      "cell_type": "code",
      "source": [
        "y_train_virginica"
      ],
      "metadata": {
        "colab": {
          "base_uri": "https://localhost:8080/"
        },
        "id": "JNGXOrKrPhkq",
        "outputId": "4d46ec8f-9847-4f34-bc54-b455218c6f56"
      },
      "execution_count": null,
      "outputs": [
        {
          "output_type": "execute_result",
          "data": {
            "text/plain": [
              "array([0, 1, 0, 0, 1, 0, 0, 0, 0, 0, 1, 0, 0, 0, 0, 0, 0, 1, 0, 0, 1, 0,\n",
              "       1, 1, 0, 0, 1, 0, 0, 0, 1, 0, 0, 0, 0, 0, 1, 0, 0, 0, 0, 1, 0, 1,\n",
              "       1, 0, 0, 0, 1, 1, 0, 0, 0, 0, 1, 0, 1, 1, 0, 0, 0, 1, 0, 1, 0, 1,\n",
              "       0, 1, 0, 0, 0, 0, 0, 0, 0, 0, 1, 1, 0, 0, 1, 1, 0, 1, 0, 0, 1, 1,\n",
              "       0, 1, 0, 0, 1, 1, 0, 0, 1, 0, 0, 1])"
            ]
          },
          "metadata": {},
          "execution_count": 24
        }
      ]
    },
    {
      "cell_type": "code",
      "source": [
        "y_test_virginica = (y_test == 2).astype(int)"
      ],
      "metadata": {
        "id": "PXOfEd8LPR8H"
      },
      "execution_count": null,
      "outputs": []
    },
    {
      "cell_type": "code",
      "source": [
        "y_test_virginica"
      ],
      "metadata": {
        "colab": {
          "base_uri": "https://localhost:8080/"
        },
        "id": "eYEVL7kpP-P8",
        "outputId": "8a6560b3-b2d1-4d8e-f293-5bd8b25e7ccc"
      },
      "execution_count": null,
      "outputs": [
        {
          "output_type": "execute_result",
          "data": {
            "text/plain": [
              "array([0, 0, 1, 0, 0, 0, 0, 1, 0, 0, 1, 0, 0, 0, 0, 0, 1, 0, 0, 1, 0, 1,\n",
              "       0, 1, 1, 1, 1, 1, 0, 0, 0, 0, 0, 0, 0, 1, 0, 0, 0, 0, 1, 0, 0, 0,\n",
              "       0, 0, 1, 1, 0, 1])"
            ]
          },
          "metadata": {},
          "execution_count": 27
        }
      ]
    },
    {
      "cell_type": "code",
      "source": [
        "X_train_oneF = X_train[:,3]"
      ],
      "metadata": {
        "id": "ADK2sza4PWkP"
      },
      "execution_count": null,
      "outputs": []
    },
    {
      "cell_type": "code",
      "source": [
        "X_test_oneF = X_test[:,3]"
      ],
      "metadata": {
        "id": "K6AuC3U1PYqt"
      },
      "execution_count": null,
      "outputs": []
    },
    {
      "cell_type": "code",
      "metadata": {
        "id": "D3rbgGYkzbrF",
        "colab": {
          "base_uri": "https://localhost:8080/",
          "height": 74
        },
        "outputId": "e099ade6-b6ac-49e3-e962-bb3a01af8ec8"
      },
      "source": [
        "from sklearn.linear_model import LogisticRegression\n",
        "log_reg_oneF = LogisticRegression()\n",
        "log_reg_oneF.fit(X_train_oneF.reshape(-1,1), y_train_virginica)"
      ],
      "execution_count": null,
      "outputs": [
        {
          "output_type": "execute_result",
          "data": {
            "text/plain": [
              "LogisticRegression()"
            ],
            "text/html": [
              "<style>#sk-container-id-1 {color: black;background-color: white;}#sk-container-id-1 pre{padding: 0;}#sk-container-id-1 div.sk-toggleable {background-color: white;}#sk-container-id-1 label.sk-toggleable__label {cursor: pointer;display: block;width: 100%;margin-bottom: 0;padding: 0.3em;box-sizing: border-box;text-align: center;}#sk-container-id-1 label.sk-toggleable__label-arrow:before {content: \"▸\";float: left;margin-right: 0.25em;color: #696969;}#sk-container-id-1 label.sk-toggleable__label-arrow:hover:before {color: black;}#sk-container-id-1 div.sk-estimator:hover label.sk-toggleable__label-arrow:before {color: black;}#sk-container-id-1 div.sk-toggleable__content {max-height: 0;max-width: 0;overflow: hidden;text-align: left;background-color: #f0f8ff;}#sk-container-id-1 div.sk-toggleable__content pre {margin: 0.2em;color: black;border-radius: 0.25em;background-color: #f0f8ff;}#sk-container-id-1 input.sk-toggleable__control:checked~div.sk-toggleable__content {max-height: 200px;max-width: 100%;overflow: auto;}#sk-container-id-1 input.sk-toggleable__control:checked~label.sk-toggleable__label-arrow:before {content: \"▾\";}#sk-container-id-1 div.sk-estimator input.sk-toggleable__control:checked~label.sk-toggleable__label {background-color: #d4ebff;}#sk-container-id-1 div.sk-label input.sk-toggleable__control:checked~label.sk-toggleable__label {background-color: #d4ebff;}#sk-container-id-1 input.sk-hidden--visually {border: 0;clip: rect(1px 1px 1px 1px);clip: rect(1px, 1px, 1px, 1px);height: 1px;margin: -1px;overflow: hidden;padding: 0;position: absolute;width: 1px;}#sk-container-id-1 div.sk-estimator {font-family: monospace;background-color: #f0f8ff;border: 1px dotted black;border-radius: 0.25em;box-sizing: border-box;margin-bottom: 0.5em;}#sk-container-id-1 div.sk-estimator:hover {background-color: #d4ebff;}#sk-container-id-1 div.sk-parallel-item::after {content: \"\";width: 100%;border-bottom: 1px solid gray;flex-grow: 1;}#sk-container-id-1 div.sk-label:hover label.sk-toggleable__label {background-color: #d4ebff;}#sk-container-id-1 div.sk-serial::before {content: \"\";position: absolute;border-left: 1px solid gray;box-sizing: border-box;top: 0;bottom: 0;left: 50%;z-index: 0;}#sk-container-id-1 div.sk-serial {display: flex;flex-direction: column;align-items: center;background-color: white;padding-right: 0.2em;padding-left: 0.2em;position: relative;}#sk-container-id-1 div.sk-item {position: relative;z-index: 1;}#sk-container-id-1 div.sk-parallel {display: flex;align-items: stretch;justify-content: center;background-color: white;position: relative;}#sk-container-id-1 div.sk-item::before, #sk-container-id-1 div.sk-parallel-item::before {content: \"\";position: absolute;border-left: 1px solid gray;box-sizing: border-box;top: 0;bottom: 0;left: 50%;z-index: -1;}#sk-container-id-1 div.sk-parallel-item {display: flex;flex-direction: column;z-index: 1;position: relative;background-color: white;}#sk-container-id-1 div.sk-parallel-item:first-child::after {align-self: flex-end;width: 50%;}#sk-container-id-1 div.sk-parallel-item:last-child::after {align-self: flex-start;width: 50%;}#sk-container-id-1 div.sk-parallel-item:only-child::after {width: 0;}#sk-container-id-1 div.sk-dashed-wrapped {border: 1px dashed gray;margin: 0 0.4em 0.5em 0.4em;box-sizing: border-box;padding-bottom: 0.4em;background-color: white;}#sk-container-id-1 div.sk-label label {font-family: monospace;font-weight: bold;display: inline-block;line-height: 1.2em;}#sk-container-id-1 div.sk-label-container {text-align: center;}#sk-container-id-1 div.sk-container {/* jupyter's `normalize.less` sets `[hidden] { display: none; }` but bootstrap.min.css set `[hidden] { display: none !important; }` so we also need the `!important` here to be able to override the default hidden behavior on the sphinx rendered scikit-learn.org. See: https://github.com/scikit-learn/scikit-learn/issues/21755 */display: inline-block !important;position: relative;}#sk-container-id-1 div.sk-text-repr-fallback {display: none;}</style><div id=\"sk-container-id-1\" class=\"sk-top-container\"><div class=\"sk-text-repr-fallback\"><pre>LogisticRegression()</pre><b>In a Jupyter environment, please rerun this cell to show the HTML representation or trust the notebook. <br />On GitHub, the HTML representation is unable to render, please try loading this page with nbviewer.org.</b></div><div class=\"sk-container\" hidden><div class=\"sk-item\"><div class=\"sk-estimator sk-toggleable\"><input class=\"sk-toggleable__control sk-hidden--visually\" id=\"sk-estimator-id-1\" type=\"checkbox\" checked><label for=\"sk-estimator-id-1\" class=\"sk-toggleable__label sk-toggleable__label-arrow\">LogisticRegression</label><div class=\"sk-toggleable__content\"><pre>LogisticRegression()</pre></div></div></div></div></div>"
            ]
          },
          "metadata": {},
          "execution_count": 30
        }
      ]
    },
    {
      "cell_type": "code",
      "metadata": {
        "id": "FisM4nmr0voj",
        "colab": {
          "base_uri": "https://localhost:8080/"
        },
        "outputId": "983adb30-e2e1-4997-b02e-9ae00fafb801"
      },
      "source": [
        "log_reg_oneF.coef_"
      ],
      "execution_count": null,
      "outputs": [
        {
          "output_type": "execute_result",
          "data": {
            "text/plain": [
              "array([[3.72350587]])"
            ]
          },
          "metadata": {},
          "execution_count": 31
        }
      ]
    },
    {
      "cell_type": "code",
      "metadata": {
        "id": "DuM-BCgA06ZC",
        "colab": {
          "base_uri": "https://localhost:8080/"
        },
        "outputId": "3cdbd103-a78f-4194-dbe4-ccffd56f4615"
      },
      "source": [
        "log_reg_oneF.intercept_"
      ],
      "execution_count": null,
      "outputs": [
        {
          "output_type": "execute_result",
          "data": {
            "text/plain": [
              "array([-6.16356032])"
            ]
          },
          "metadata": {},
          "execution_count": 32
        }
      ]
    },
    {
      "cell_type": "code",
      "metadata": {
        "id": "lOSsHYvnz4Jt"
      },
      "source": [
        "y_predict_virginica = log_reg_oneF.predict(X_test_oneF.reshape(-1,1))"
      ],
      "execution_count": null,
      "outputs": []
    },
    {
      "cell_type": "code",
      "metadata": {
        "id": "E4zT1Ay-ZYFu",
        "colab": {
          "base_uri": "https://localhost:8080/"
        },
        "outputId": "cfbdd9e7-d1bc-4b83-92b7-e89f0262f79d"
      },
      "source": [
        "y_predict_virginica"
      ],
      "execution_count": null,
      "outputs": [
        {
          "output_type": "execute_result",
          "data": {
            "text/plain": [
              "array([0, 0, 1, 0, 0, 0, 0, 1, 0, 0, 1, 0, 0, 0, 0, 0, 1, 0, 0, 1, 0, 1,\n",
              "       0, 1, 1, 1, 1, 1, 0, 0, 0, 0, 0, 0, 0, 1, 0, 0, 0, 0, 1, 0, 0, 0,\n",
              "       0, 0, 0, 1, 0, 1])"
            ]
          },
          "metadata": {},
          "execution_count": 34
        }
      ]
    },
    {
      "cell_type": "code",
      "metadata": {
        "id": "WBPM38CMZkjS"
      },
      "source": [
        "y_proba = log_reg_oneF.predict_proba(X_test_oneF.reshape(-1,1))"
      ],
      "execution_count": null,
      "outputs": []
    },
    {
      "cell_type": "code",
      "metadata": {
        "id": "tJsyvt-cZ3tf",
        "colab": {
          "base_uri": "https://localhost:8080/",
          "height": 874
        },
        "outputId": "85e0036d-2172-43e8-de69-0f2ef7991347"
      },
      "source": [
        "print(y_proba)"
      ],
      "execution_count": null,
      "outputs": [
        {
          "output_type": "stream",
          "text": [
            "[[0.84492687 0.15507313]\n",
            " [0.99360935 0.00639065]\n",
            " [0.08313433 0.91686567]\n",
            " [0.64067649 0.35932351]\n",
            " [0.7212463  0.2787537 ]\n",
            " [0.99075293 0.00924707]\n",
            " [0.78968084 0.21031916]\n",
            " [0.08313433 0.91686567]\n",
            " [0.64067649 0.35932351]\n",
            " [0.84492687 0.15507313]\n",
            " [0.21696329 0.78303671]\n",
            " [0.99695502 0.00304498]\n",
            " [0.99558736 0.00441264]\n",
            " [0.99695502 0.00304498]\n",
            " [0.99360935 0.00639065]\n",
            " [0.55130651 0.44869349]\n",
            " [0.11627862 0.88372138]\n",
            " [0.88772431 0.11227569]\n",
            " [0.78968084 0.21031916]\n",
            " [0.11627862 0.88372138]\n",
            " [0.99558736 0.00441264]\n",
            " [0.36847835 0.63152165]\n",
            " [0.99075293 0.00924707]\n",
            " [0.16032633 0.83967367]\n",
            " [0.21696329 0.78303671]\n",
            " [0.08313433 0.91686567]\n",
            " [0.36847835 0.63152165]\n",
            " [0.08313433 0.91686567]\n",
            " [0.99360935 0.00639065]\n",
            " [0.99558736 0.00441264]\n",
            " [0.99558736 0.00441264]\n",
            " [0.99075293 0.00924707]\n",
            " [0.7212463  0.2787537 ]\n",
            " [0.99558736 0.00441264]\n",
            " [0.99558736 0.00441264]\n",
            " [0.28677462 0.71322538]\n",
            " [0.64067649 0.35932351]\n",
            " [0.99558736 0.00441264]\n",
            " [0.99558736 0.00441264]\n",
            " [0.99695502 0.00304498]\n",
            " [0.28677462 0.71322538]\n",
            " [0.55130651 0.44869349]\n",
            " [0.64067649 0.35932351]\n",
            " [0.99075293 0.00924707]\n",
            " [0.99558736 0.00441264]\n",
            " [0.9198311  0.0801689 ]\n",
            " [0.64067649 0.35932351]\n",
            " [0.36847835 0.63152165]\n",
            " [0.7212463  0.2787537 ]\n",
            " [0.04128066 0.95871934]]\n"
          ],
          "name": "stdout"
        }
      ]
    },
    {
      "cell_type": "markdown",
      "metadata": {
        "id": "xlyWlsUNrCTv"
      },
      "source": [
        "Binary Classifier using all 4 features (sepal length, sepal width, petal length, petal width)\n"
      ]
    },
    {
      "cell_type": "code",
      "metadata": {
        "id": "TRSGbwua1jz9",
        "colab": {
          "base_uri": "https://localhost:8080/",
          "height": 103
        },
        "outputId": "eae023ee-7931-483f-e886-5dd8274bd30a"
      },
      "source": [
        "log_reg_allF = LogisticRegression()\n",
        "log_reg_allF.fit(X_train,y_train_virginica)\n",
        "#training with all 4 features to classify virginica vs not virginica"
      ],
      "execution_count": null,
      "outputs": [
        {
          "output_type": "execute_result",
          "data": {
            "text/plain": [
              "LogisticRegression(C=1.0, class_weight=None, dual=False, fit_intercept=True,\n",
              "                   intercept_scaling=1, l1_ratio=None, max_iter=100,\n",
              "                   multi_class='auto', n_jobs=None, penalty='l2',\n",
              "                   random_state=None, solver='lbfgs', tol=0.0001, verbose=0,\n",
              "                   warm_start=False)"
            ]
          },
          "metadata": {
            "tags": []
          },
          "execution_count": 19
        }
      ]
    },
    {
      "cell_type": "code",
      "metadata": {
        "id": "JMoEErwF3qYM",
        "colab": {
          "base_uri": "https://localhost:8080/",
          "height": 86
        },
        "outputId": "2185c768-49ac-42e3-8c47-fc7b0a0f6b90"
      },
      "source": [
        "iris['feature_names']"
      ],
      "execution_count": null,
      "outputs": [
        {
          "output_type": "execute_result",
          "data": {
            "text/plain": [
              "['sepal length (cm)',\n",
              " 'sepal width (cm)',\n",
              " 'petal length (cm)',\n",
              " 'petal width (cm)']"
            ]
          },
          "metadata": {
            "tags": []
          },
          "execution_count": 20
        }
      ]
    },
    {
      "cell_type": "code",
      "metadata": {
        "id": "hqgXOkHG0hp7",
        "colab": {
          "base_uri": "https://localhost:8080/",
          "height": 34
        },
        "outputId": "1b4f5db7-a623-453e-c952-e81b109cc9c9"
      },
      "source": [
        "log_reg_allF.coef_ #This gives us the values of B1,B2,B3,B4"
      ],
      "execution_count": null,
      "outputs": [
        {
          "output_type": "execute_result",
          "data": {
            "text/plain": [
              "array([[-0.27113898, -0.36966884,  2.51348032,  2.02545183]])"
            ]
          },
          "metadata": {
            "tags": []
          },
          "execution_count": 21
        }
      ]
    },
    {
      "cell_type": "code",
      "metadata": {
        "id": "CDy5QHI23Qq2",
        "colab": {
          "base_uri": "https://localhost:8080/",
          "height": 34
        },
        "outputId": "be4b2721-0e87-496e-a3e1-68e8bf0a6b61"
      },
      "source": [
        "log_reg_allF.intercept_ #this is gives us Bo"
      ],
      "execution_count": null,
      "outputs": [
        {
          "output_type": "execute_result",
          "data": {
            "text/plain": [
              "array([-12.92101707])"
            ]
          },
          "metadata": {
            "tags": []
          },
          "execution_count": 22
        }
      ]
    },
    {
      "cell_type": "code",
      "metadata": {
        "id": "3V2ytkcB3X7j",
        "colab": {
          "base_uri": "https://localhost:8080/",
          "height": 68
        },
        "outputId": "572a7319-72f2-4916-e61c-40c598dfa3ad"
      },
      "source": [
        "log_reg_allF.predict(X_test)"
      ],
      "execution_count": null,
      "outputs": [
        {
          "output_type": "execute_result",
          "data": {
            "text/plain": [
              "array([0, 0, 1, 0, 0, 0, 0, 1, 0, 0, 1, 0, 0, 0, 0, 0, 1, 0, 0, 1, 0, 1,\n",
              "       0, 1, 1, 1, 1, 1, 0, 0, 0, 0, 0, 0, 0, 1, 0, 0, 0, 0, 1, 0, 0, 0,\n",
              "       0, 0, 1, 1, 0, 1])"
            ]
          },
          "metadata": {
            "tags": []
          },
          "execution_count": 23
        }
      ]
    },
    {
      "cell_type": "code",
      "metadata": {
        "id": "2fiNmFhj5QGb",
        "colab": {
          "base_uri": "https://localhost:8080/",
          "height": 874
        },
        "outputId": "0248f576-61f9-407b-80e0-90352da98443"
      },
      "source": [
        "log_reg_allF.predict_proba(X_test)"
      ],
      "execution_count": null,
      "outputs": [
        {
          "output_type": "execute_result",
          "data": {
            "text/plain": [
              "array([[7.96755454e-01, 2.03244546e-01],\n",
              "       [9.99983143e-01, 1.68574882e-05],\n",
              "       [2.39582907e-03, 9.97604171e-01],\n",
              "       [7.80922675e-01, 2.19077325e-01],\n",
              "       [7.10846078e-01, 2.89153922e-01],\n",
              "       [9.99984297e-01, 1.57030422e-05],\n",
              "       [9.78747901e-01, 2.12520987e-02],\n",
              "       [1.76616781e-01, 8.23383219e-01],\n",
              "       [7.43932837e-01, 2.56067163e-01],\n",
              "       [9.62981398e-01, 3.70186016e-02],\n",
              "       [2.68294554e-01, 7.31705446e-01],\n",
              "       [9.99990926e-01, 9.07413839e-06],\n",
              "       [9.99994058e-01, 5.94171025e-06],\n",
              "       [9.99989057e-01, 1.09429325e-05],\n",
              "       [9.99988001e-01, 1.19985660e-05],\n",
              "       [6.88908069e-01, 3.11091931e-01],\n",
              "       [3.76243674e-02, 9.62375633e-01],\n",
              "       [9.65543623e-01, 3.44563773e-02],\n",
              "       [8.26042208e-01, 1.73957792e-01],\n",
              "       [5.51950860e-02, 9.44804914e-01],\n",
              "       [9.99982471e-01, 1.75287318e-05],\n",
              "       [4.30969796e-01, 5.69030204e-01],\n",
              "       [9.99977497e-01, 2.25030597e-05],\n",
              "       [6.67599345e-02, 9.33240066e-01],\n",
              "       [2.48575720e-02, 9.75142428e-01],\n",
              "       [1.32161368e-01, 8.67838632e-01],\n",
              "       [7.16125492e-02, 9.28387451e-01],\n",
              "       [2.81851327e-02, 9.71814867e-01],\n",
              "       [9.99986394e-01, 1.36060462e-05],\n",
              "       [9.99982298e-01, 1.77022928e-05],\n",
              "       [9.99996562e-01, 3.43842533e-06],\n",
              "       [9.99989997e-01, 1.00026457e-05],\n",
              "       [8.79602958e-01, 1.20397042e-01],\n",
              "       [9.99984156e-01, 1.58440712e-05],\n",
              "       [9.99991055e-01, 8.94547247e-06],\n",
              "       [2.96839132e-01, 7.03160868e-01],\n",
              "       [8.16139448e-01, 1.83860552e-01],\n",
              "       [9.99989345e-01, 1.06550084e-05],\n",
              "       [9.99991569e-01, 8.43125100e-06],\n",
              "       [9.99993029e-01, 6.97050206e-06],\n",
              "       [2.35884063e-01, 7.64115937e-01],\n",
              "       [7.77877603e-01, 2.22122397e-01],\n",
              "       [7.37320183e-01, 2.62679817e-01],\n",
              "       [9.99992104e-01, 7.89580642e-06],\n",
              "       [9.99990627e-01, 9.37334267e-06],\n",
              "       [9.81551613e-01, 1.84483871e-02],\n",
              "       [4.51982936e-01, 5.48017064e-01],\n",
              "       [1.58734391e-01, 8.41265609e-01],\n",
              "       [8.72649946e-01, 1.27350054e-01],\n",
              "       [1.48933663e-02, 9.85106634e-01]])"
            ]
          },
          "metadata": {
            "tags": []
          },
          "execution_count": 24
        }
      ]
    }
  ]
}