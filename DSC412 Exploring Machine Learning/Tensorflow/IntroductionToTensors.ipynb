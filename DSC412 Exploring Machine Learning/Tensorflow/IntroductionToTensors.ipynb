{
  "nbformat": 4,
  "nbformat_minor": 0,
  "metadata": {
    "colab": {
      "name": "IntroductionToTensors.ipynb",
      "provenance": [],
      "collapsed_sections": []
    },
    "kernelspec": {
      "name": "python3",
      "display_name": "Python 3"
    },
    "language_info": {
      "name": "python"
    },
    "accelerator": "GPU"
  },
  "cells": [
    {
      "cell_type": "code",
      "metadata": {
        "id": "55EEY3L6wtvi"
      },
      "source": [
        "import tensorflow as tf\n",
        "\n",
        "\n"
      ],
      "execution_count": null,
      "outputs": []
    },
    {
      "cell_type": "code",
      "metadata": {
        "colab": {
          "base_uri": "https://localhost:8080/",
          "height": 35
        },
        "id": "1I47r151120v",
        "outputId": "29fb9536-c354-46f6-837b-4cadcdb15a45"
      },
      "source": [
        "tf.__version__"
      ],
      "execution_count": null,
      "outputs": [
        {
          "output_type": "execute_result",
          "data": {
            "application/vnd.google.colaboratory.intrinsic+json": {
              "type": "string"
            },
            "text/plain": [
              "'2.6.0'"
            ]
          },
          "metadata": {},
          "execution_count": 8
        }
      ]
    },
    {
      "cell_type": "code",
      "metadata": {
        "colab": {
          "base_uri": "https://localhost:8080/",
          "height": 35
        },
        "id": "pkCFkOcz2m6e",
        "outputId": "9b6c4ef0-476d-4e75-c33c-3a8a1d4f9ae0"
      },
      "source": [
        "tf.test.gpu_device_name()"
      ],
      "execution_count": null,
      "outputs": [
        {
          "output_type": "execute_result",
          "data": {
            "application/vnd.google.colaboratory.intrinsic+json": {
              "type": "string"
            },
            "text/plain": [
              "'/device:GPU:0'"
            ]
          },
          "metadata": {},
          "execution_count": 9
        }
      ]
    },
    {
      "cell_type": "code",
      "metadata": {
        "id": "h_mvEV_Uw3_p"
      },
      "source": [
        "X = tf.constant([-1,3,2.6,4.3,-0.8]) #Create a tensor with 5 numbers"
      ],
      "execution_count": null,
      "outputs": []
    },
    {
      "cell_type": "code",
      "metadata": {
        "colab": {
          "base_uri": "https://localhost:8080/"
        },
        "id": "sXM6_HYNhfyb",
        "outputId": "fae479dc-9b09-4fba-cbd4-1ac211be526a"
      },
      "source": [
        "X.shape # the shape of the tensor X"
      ],
      "execution_count": null,
      "outputs": [
        {
          "output_type": "execute_result",
          "data": {
            "text/plain": [
              "TensorShape([5])"
            ]
          },
          "metadata": {},
          "execution_count": 11
        }
      ]
    },
    {
      "cell_type": "code",
      "metadata": {
        "colab": {
          "base_uri": "https://localhost:8080/"
        },
        "id": "omu6n5io3GHc",
        "outputId": "e89b9506-f137-4c2b-b568-59ca16381fb4"
      },
      "source": [
        "X"
      ],
      "execution_count": null,
      "outputs": [
        {
          "output_type": "execute_result",
          "data": {
            "text/plain": [
              "<tf.Tensor: shape=(5,), dtype=float32, numpy=array([-1. ,  3. ,  2.6,  4.3, -0.8], dtype=float32)>"
            ]
          },
          "metadata": {},
          "execution_count": 12
        }
      ]
    },
    {
      "cell_type": "code",
      "metadata": {
        "colab": {
          "base_uri": "https://localhost:8080/"
        },
        "id": "ikpldoXmSktX",
        "outputId": "3f5a6548-5a7c-4c75-e618-6541474a559a"
      },
      "source": [
        "for item in X:  #print each value in the tensor X\n",
        "  print(item)"
      ],
      "execution_count": null,
      "outputs": [
        {
          "output_type": "stream",
          "name": "stdout",
          "text": [
            "tf.Tensor(-1.0, shape=(), dtype=float32)\n",
            "tf.Tensor(3.0, shape=(), dtype=float32)\n",
            "tf.Tensor(2.6, shape=(), dtype=float32)\n",
            "tf.Tensor(4.3, shape=(), dtype=float32)\n",
            "tf.Tensor(-0.8, shape=(), dtype=float32)\n"
          ]
        }
      ]
    },
    {
      "cell_type": "code",
      "metadata": {
        "colab": {
          "base_uri": "https://localhost:8080/"
        },
        "id": "atOrFKvkw7BP",
        "outputId": "7df126f7-0624-486b-9c13-ef52c882e827"
      },
      "source": [
        "X[0]"
      ],
      "execution_count": null,
      "outputs": [
        {
          "output_type": "execute_result",
          "data": {
            "text/plain": [
              "<tf.Tensor: shape=(), dtype=float32, numpy=-1.0>"
            ]
          },
          "metadata": {},
          "execution_count": 14
        }
      ]
    },
    {
      "cell_type": "code",
      "metadata": {
        "colab": {
          "base_uri": "https://localhost:8080/"
        },
        "id": "b69ifWkAxBG1",
        "outputId": "6ea0dd90-31f0-46fb-d2e7-e4714d82edde"
      },
      "source": [
        "X.numpy() #Extract the values in the tensor X as numpy array"
      ],
      "execution_count": null,
      "outputs": [
        {
          "output_type": "execute_result",
          "data": {
            "text/plain": [
              "array([-1. ,  3. ,  2.6,  4.3, -0.8], dtype=float32)"
            ]
          },
          "metadata": {},
          "execution_count": 15
        }
      ]
    },
    {
      "cell_type": "code",
      "metadata": {
        "colab": {
          "base_uri": "https://localhost:8080/"
        },
        "id": "V7vU1hr0xFDq",
        "outputId": "5842c8c5-2274-4655-84d7-c939efaa4b2b"
      },
      "source": [
        "X[1:4].numpy()  #return values stored at index 1,2,3"
      ],
      "execution_count": null,
      "outputs": [
        {
          "output_type": "execute_result",
          "data": {
            "text/plain": [
              "array([3. , 2.6, 4.3], dtype=float32)"
            ]
          },
          "metadata": {},
          "execution_count": 17
        }
      ]
    },
    {
      "cell_type": "code",
      "metadata": {
        "colab": {
          "base_uri": "https://localhost:8080/"
        },
        "id": "XZDshLEdNJBj",
        "outputId": "a6c08427-59f8-49f5-a2c1-4aaf5ceafdfc"
      },
      "source": [
        "tf.math.reduce_max(X).numpy() #get the maximum value in tensor X"
      ],
      "execution_count": null,
      "outputs": [
        {
          "output_type": "execute_result",
          "data": {
            "text/plain": [
              "4.3"
            ]
          },
          "metadata": {},
          "execution_count": 19
        }
      ]
    },
    {
      "cell_type": "code",
      "metadata": {
        "colab": {
          "base_uri": "https://localhost:8080/"
        },
        "id": "7ZaLWUU9PwRH",
        "outputId": "67f2b9b9-cda9-47b8-b6af-f08bcb2f72fc"
      },
      "source": [
        "tf.math.argmax(X).numpy() #get the index that contains the maximum value in tensor X"
      ],
      "execution_count": null,
      "outputs": [
        {
          "output_type": "execute_result",
          "data": {
            "text/plain": [
              "3"
            ]
          },
          "metadata": {},
          "execution_count": 21
        }
      ]
    },
    {
      "cell_type": "code",
      "metadata": {
        "id": "O-ufFQ3zh28g"
      },
      "source": [
        "Y = tf.constant([0,2.1,-1,0.3,1]) #Creating another tensor with 5 values"
      ],
      "execution_count": null,
      "outputs": []
    },
    {
      "cell_type": "code",
      "metadata": {
        "colab": {
          "base_uri": "https://localhost:8080/"
        },
        "id": "m1Rxwj317lZB",
        "outputId": "224c879a-f391-424a-a5bd-7c0d2e133f67"
      },
      "source": [
        "Y"
      ],
      "execution_count": null,
      "outputs": [
        {
          "output_type": "execute_result",
          "data": {
            "text/plain": [
              "<tf.Tensor: shape=(5,), dtype=float32, numpy=array([ 0. ,  2.1, -1. ,  0.3,  1. ], dtype=float32)>"
            ]
          },
          "metadata": {},
          "execution_count": 27
        }
      ]
    },
    {
      "cell_type": "code",
      "metadata": {
        "colab": {
          "base_uri": "https://localhost:8080/"
        },
        "id": "OoGq0QmIPdkp",
        "outputId": "dac15fdf-8cb4-4252-b83e-8c7732bec0c3"
      },
      "source": [
        "tf.math.greater(X,Y) #Check location by location if X is greater than Y"
      ],
      "execution_count": null,
      "outputs": [
        {
          "output_type": "execute_result",
          "data": {
            "text/plain": [
              "<tf.Tensor: shape=(5,), dtype=bool, numpy=array([False,  True,  True,  True, False])>"
            ]
          },
          "metadata": {},
          "execution_count": 26
        }
      ]
    },
    {
      "cell_type": "code",
      "metadata": {
        "colab": {
          "base_uri": "https://localhost:8080/"
        },
        "id": "zHBUip4xx9kW",
        "outputId": "fccb1c03-d19c-4e95-f563-e5e495937d14"
      },
      "source": [
        "tf.math.equal(X,Y) #Check location by location if X is equal to Y"
      ],
      "execution_count": null,
      "outputs": [
        {
          "output_type": "execute_result",
          "data": {
            "text/plain": [
              "<tf.Tensor: shape=(5,), dtype=bool, numpy=array([False, False, False, False, False])>"
            ]
          },
          "metadata": {},
          "execution_count": 28
        }
      ]
    },
    {
      "cell_type": "code",
      "metadata": {
        "id": "bIFXyJHx8UiN"
      },
      "source": [
        "Z = tf.constant([[3,9.0,1.2],[-2,2.1,8]]) #create a 2D Tensor Z\n",
        "ZZ = tf.constant([[4,10.0,-1],[-3,3.8,4]]) #create another 2D Tensor ZZ"
      ],
      "execution_count": null,
      "outputs": []
    },
    {
      "cell_type": "code",
      "metadata": {
        "colab": {
          "base_uri": "https://localhost:8080/"
        },
        "id": "u7vuUJ2r9MBa",
        "outputId": "1bfcf2af-c23f-46d7-b9ec-3019b4a4066b"
      },
      "source": [
        "Z"
      ],
      "execution_count": null,
      "outputs": [
        {
          "output_type": "execute_result",
          "data": {
            "text/plain": [
              "<tf.Tensor: shape=(2, 3), dtype=float32, numpy=\n",
              "array([[ 3. ,  9. ,  1.2],\n",
              "       [-2. ,  2.1,  8. ]], dtype=float32)>"
            ]
          },
          "metadata": {},
          "execution_count": 40
        }
      ]
    },
    {
      "cell_type": "code",
      "metadata": {
        "colab": {
          "base_uri": "https://localhost:8080/"
        },
        "id": "QQHWP5ry9OCo",
        "outputId": "2887af36-4a59-4398-83b5-68db5da4c9d3"
      },
      "source": [
        "ZZ"
      ],
      "execution_count": null,
      "outputs": [
        {
          "output_type": "execute_result",
          "data": {
            "text/plain": [
              "<tf.Tensor: shape=(2, 3), dtype=float32, numpy=\n",
              "array([[ 4. , 10. , -1. ],\n",
              "       [-3. ,  3.8,  4. ]], dtype=float32)>"
            ]
          },
          "metadata": {},
          "execution_count": 41
        }
      ]
    },
    {
      "cell_type": "code",
      "metadata": {
        "colab": {
          "base_uri": "https://localhost:8080/"
        },
        "id": "l0OHklMmDo6C",
        "outputId": "ca56f8ba-172f-483f-e13e-bbe41d72e8de"
      },
      "source": [
        "Z.numpy()"
      ],
      "execution_count": null,
      "outputs": [
        {
          "output_type": "execute_result",
          "data": {
            "text/plain": [
              "array([[ 3. ,  9. ,  1.2],\n",
              "       [-2. ,  2.1,  8. ]], dtype=float32)"
            ]
          },
          "metadata": {},
          "execution_count": 42
        }
      ]
    },
    {
      "cell_type": "code",
      "metadata": {
        "colab": {
          "base_uri": "https://localhost:8080/"
        },
        "id": "xssYMG7y-HA0",
        "outputId": "144a4a35-0900-4ba0-8ca4-0ba4c6bf64be"
      },
      "source": [
        "tf.math.add(Z,ZZ)"
      ],
      "execution_count": null,
      "outputs": [
        {
          "output_type": "execute_result",
          "data": {
            "text/plain": [
              "<tf.Tensor: shape=(2, 3), dtype=float32, numpy=\n",
              "array([[ 7.        , 19.        ,  0.20000005],\n",
              "       [-5.        ,  5.8999996 , 12.        ]], dtype=float32)>"
            ]
          },
          "metadata": {},
          "execution_count": 49
        }
      ]
    },
    {
      "cell_type": "code",
      "metadata": {
        "colab": {
          "base_uri": "https://localhost:8080/"
        },
        "id": "J2HMpIMN-fUB",
        "outputId": "dd715694-4016-403a-af18-6065408f6281"
      },
      "source": [
        "tf.math.reduce_max(ZZ).numpy()"
      ],
      "execution_count": null,
      "outputs": [
        {
          "output_type": "execute_result",
          "data": {
            "text/plain": [
              "10.0"
            ]
          },
          "metadata": {},
          "execution_count": 47
        }
      ]
    },
    {
      "cell_type": "code",
      "metadata": {
        "colab": {
          "base_uri": "https://localhost:8080/"
        },
        "id": "6N5P4Cl-Flwt",
        "outputId": "2b84e705-cc7f-4a90-fe4f-9c134fc403d6"
      },
      "source": [
        "Z"
      ],
      "execution_count": null,
      "outputs": [
        {
          "output_type": "execute_result",
          "data": {
            "text/plain": [
              "<tf.Tensor: shape=(2, 3), dtype=float32, numpy=\n",
              "array([[ 3. ,  9. ,  1.2],\n",
              "       [-2. ,  2.1,  8. ]], dtype=float32)>"
            ]
          },
          "metadata": {},
          "execution_count": 50
        }
      ]
    },
    {
      "cell_type": "code",
      "metadata": {
        "colab": {
          "base_uri": "https://localhost:8080/"
        },
        "id": "_OejdN5eBwl5",
        "outputId": "8cc0230e-9338-4282-9cf8-74d4092cb9a2"
      },
      "source": [
        "tf.math.argmax(Z,0)"
      ],
      "execution_count": null,
      "outputs": [
        {
          "output_type": "execute_result",
          "data": {
            "text/plain": [
              "<tf.Tensor: shape=(3,), dtype=int64, numpy=array([0, 0, 1])>"
            ]
          },
          "metadata": {},
          "execution_count": 51
        }
      ]
    },
    {
      "cell_type": "code",
      "metadata": {
        "colab": {
          "base_uri": "https://localhost:8080/"
        },
        "id": "wvvqH4g8F_IA",
        "outputId": "696e5059-dfca-4fb6-b8be-e29cd6ccbbb2"
      },
      "source": [
        "tf.math.argmax(Z,1)"
      ],
      "execution_count": null,
      "outputs": [
        {
          "output_type": "execute_result",
          "data": {
            "text/plain": [
              "<tf.Tensor: shape=(2,), dtype=int64, numpy=array([1, 2])>"
            ]
          },
          "metadata": {},
          "execution_count": 52
        }
      ]
    },
    {
      "cell_type": "code",
      "metadata": {
        "colab": {
          "base_uri": "https://localhost:8080/"
        },
        "id": "ZW1wXP1cECJN",
        "outputId": "924e3baf-ff5c-4c0e-83ae-85aea9ad8741"
      },
      "source": [
        "tf.rank(Z) #number of indices needed to uniquely identify a value in the tensor"
      ],
      "execution_count": null,
      "outputs": [
        {
          "output_type": "execute_result",
          "data": {
            "text/plain": [
              "<tf.Tensor: shape=(), dtype=int32, numpy=2>"
            ]
          },
          "metadata": {},
          "execution_count": 55
        }
      ]
    },
    {
      "cell_type": "code",
      "metadata": {
        "colab": {
          "base_uri": "https://localhost:8080/"
        },
        "id": "6z61veE8EGQi",
        "outputId": "e7ac2179-3935-48e9-a1af-50939615f71c"
      },
      "source": [
        "tf.rank(X) #rank of X, number of indices needed to uniquely identify a value in the tensor"
      ],
      "execution_count": null,
      "outputs": [
        {
          "output_type": "execute_result",
          "data": {
            "text/plain": [
              "<tf.Tensor: shape=(), dtype=int32, numpy=1>"
            ]
          },
          "metadata": {},
          "execution_count": 54
        }
      ]
    }
  ]
}